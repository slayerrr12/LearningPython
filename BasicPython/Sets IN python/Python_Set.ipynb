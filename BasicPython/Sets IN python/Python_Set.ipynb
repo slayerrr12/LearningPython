{
 "cells": [
  {
   "cell_type": "markdown",
   "metadata": {},
   "source": [
    "###  Python Sets\n",
    "\n",
    "1. unordered collection\n",
    "1. iterable\n",
    "1. mutable\n",
    "1. No Duplicate Element\n",
    "1. Highly optimized Search operation\n",
    "\n",
    "\n"
   ]
  },
  {
   "cell_type": "markdown",
   "metadata": {},
   "source": [
    "####  Sets declaration\n",
    "1. element stored within {} seprated by coma ,\n",
    "1. Can be declared by using set()\n"
   ]
  },
  {
   "cell_type": "code",
   "execution_count": 2,
   "metadata": {},
   "outputs": [
    {
     "name": "stdout",
     "output_type": "stream",
     "text": [
      "my_set                  --> {'R', 'S', 'T', 'P', 'Q'}\n",
      "Number of elements --> 5\n",
      "Type of Object     --> <class 'set'>\n"
     ]
    }
   ],
   "source": [
    "my_set = {'P', 'Q', 'R','S', 'T',\"T\" }\n",
    "\n",
    "print (\"my_set                  -->\", my_set)\n",
    "print (\"Number of elements -->\", len(my_set))\n",
    "print (\"Type of Object     -->\", type(my_set))"
   ]
  },
  {
   "cell_type": "code",
   "execution_count": 7,
   "metadata": {},
   "outputs": [
    {
     "name": "stdout",
     "output_type": "stream",
     "text": [
      "('P', 'P', 'P', 'Q', 'R', 'S', 'T', 1, 2, 3)\n",
      "my_set                 --> {1, 2, 3, 'R', 'S', 'T', 'P', 'Q'}\n",
      "Number of elements --> 8\n",
      "Type of Object     --> <class 'set'>\n"
     ]
    }
   ],
   "source": [
    "#my_set = set(['P', 'Q', 'R','S', 'T',1,2,3] )\n",
    "#my_set = set(('P', 'Q', 'R','S', 'T',1,2,3)) # Also works\n",
    "t= ('P', \"P\",\"P\",'Q', 'R','S', 'T',1,2,3)\n",
    "print(t)\n",
    "set_1= set(t)\n",
    "print (\"my_set                 -->\", set_1)\n",
    "print (\"Number of elements -->\", len(set_1))\n",
    "print (\"Type of Object     -->\", type(set_1))"
   ]
  },
  {
   "cell_type": "markdown",
   "metadata": {},
   "source": [
    "####  Traverse set elements"
   ]
  },
  {
   "cell_type": "code",
   "execution_count": 8,
   "metadata": {},
   "outputs": [
    {
     "name": "stdout",
     "output_type": "stream",
     "text": [
      "\n",
      "MITS\n",
      "1956\n",
      "Gwalior\n",
      "MP\n"
     ]
    }
   ],
   "source": [
    "my_set = set([\"MITS\", \"Gwalior\", \"MP\", 1956, \"MP\"])\n",
    "#print (\"my_set -->\", my_set)\n",
    "\n",
    "print (\"\")\n",
    "for i in my_set:\n",
    "    print (i)"
   ]
  },
  {
   "cell_type": "markdown",
   "metadata": {},
   "source": [
    "#### elements are unindexed\n",
    "####  Can not access the element by using obj_name[] in set"
   ]
  },
  {
   "cell_type": "code",
   "execution_count": 9,
   "metadata": {},
   "outputs": [
    {
     "ename": "TypeError",
     "evalue": "'set' object is not subscriptable",
     "output_type": "error",
     "traceback": [
      "\u001b[1;31m---------------------------------------------------------------------------\u001b[0m",
      "\u001b[1;31mTypeError\u001b[0m                                 Traceback (most recent call last)",
      "\u001b[1;32m<ipython-input-9-8b2cb5c2764d>\u001b[0m in \u001b[0;36m<module>\u001b[1;34m\u001b[0m\n\u001b[0;32m      2\u001b[0m \u001b[1;31m#print (\"my_set -->\", my_set)\u001b[0m\u001b[1;33m\u001b[0m\u001b[1;33m\u001b[0m\u001b[1;33m\u001b[0m\u001b[0m\n\u001b[0;32m      3\u001b[0m \u001b[1;33m\u001b[0m\u001b[0m\n\u001b[1;32m----> 4\u001b[1;33m \u001b[0mprint\u001b[0m \u001b[1;33m(\u001b[0m\u001b[0mmy_set\u001b[0m\u001b[1;33m[\u001b[0m\u001b[1;36m2\u001b[0m\u001b[1;33m]\u001b[0m\u001b[1;33m)\u001b[0m   \u001b[1;31m# Error; 'set' object is not subscriptable\u001b[0m\u001b[1;33m\u001b[0m\u001b[1;33m\u001b[0m\u001b[0m\n\u001b[0m",
      "\u001b[1;31mTypeError\u001b[0m: 'set' object is not subscriptable"
     ]
    }
   ],
   "source": [
    "my_set = set([\"MITS\", \"Gwalior\", \"MP\", 1956, \"MP\"])\n",
    "#print (\"my_set -->\", my_set)\n",
    "\n",
    "print (my_set[2])   # Error; 'set' object is not subscriptable\n"
   ]
  },
  {
   "cell_type": "markdown",
   "metadata": {},
   "source": [
    "### operation on Set\n",
    "1. add()\n",
    "1. update()\n",
    "1. remove()\n",
    "1. discard()\n",
    "1. pop()\n",
    "1. clear()\n",
    "1. del\n",
    "1. union\n",
    "1. intersection"
   ]
  },
  {
   "cell_type": "markdown",
   "metadata": {},
   "source": [
    "#### add()\n",
    "add the new element in set, if it already exist then no change"
   ]
  },
  {
   "cell_type": "code",
   "execution_count": null,
   "metadata": {},
   "outputs": [],
   "source": [
    "my_set = {'P', 'Q', 'R','S', 'T' }\n",
    "print (\"my_set               -->\", my_set)\n",
    "\n",
    "my_set.add(\"A\")\n",
    "print (\"After Adding (A) -->\", my_set)\n",
    "\n",
    "my_set.add(\"A\")\n",
    "print (\"After Adding (A) -->\", my_set)    # No Change in Set\n",
    "\n",
    "my_set.add(1)\n",
    "print (\"After Adding (1) -->\",my_set)"
   ]
  },
  {
   "cell_type": "markdown",
   "metadata": {},
   "source": [
    "#### update()\n"
   ]
  },
  {
   "cell_type": "code",
   "execution_count": null,
   "metadata": {},
   "outputs": [],
   "source": [
    "my_set = set(['P', 'Q', 'R', 'S', \"T\" ])\n",
    "my_set_1 = set([\"W\", \"X\", \"Y\", \"Z\" ])\n",
    "\n",
    "print (\"my_set   -->\", my_set)\n",
    "print (\"my_set_1  -->\", my_set_1)\n",
    "\n",
    "my_set.update(my_set_1)    #inserts the items in my_set_1 into my_set; Union\n",
    "\n",
    "print (\"\\nAfter update S1 -->\" ,my_set)"
   ]
  },
  {
   "cell_type": "code",
   "execution_count": null,
   "metadata": {},
   "outputs": [],
   "source": [
    "my_set = set(['P', 'Q', 'Q','R', 'S', \"T\" ])\n",
    "print (\"my_set   -->\", my_set)\n",
    "\n",
    "my_set.update([1, 2,2,3, 3, 4])\n",
    "\n",
    "print (\"After update my_set -->\", my_set)"
   ]
  },
  {
   "cell_type": "markdown",
   "metadata": {},
   "source": [
    "#### remove()\n",
    "1. remove the element from set\n",
    "1. if element is not there in set, it'll raise an exception"
   ]
  },
  {
   "cell_type": "code",
   "execution_count": null,
   "metadata": {},
   "outputs": [],
   "source": [
    "my_set = set(['P', 'Q', 'Q','R', 'S', \"T\" ])\n",
    "print (\"my_set   -->\", my_set)\n",
    "\n",
    "my_set .remove(\"P\")\n",
    "print (\"After removing (P) -->\", my_set )\n",
    "\n",
    "my_set .remove(\"Q\")\n",
    "print (\"After removing (Q) -->\", my_set )\n",
    "\n",
    "my_set .remove(\"Q\")                           # Error\n",
    "print (\"After Adding (Q) -->\", my_set )"
   ]
  },
  {
   "cell_type": "markdown",
   "metadata": {},
   "source": [
    "#### discard()\n",
    "1. discard the element passed to the discard()\n",
    "1. if element is not there same set will be returned; no exception raised"
   ]
  },
  {
   "cell_type": "code",
   "execution_count": null,
   "metadata": {},
   "outputs": [],
   "source": [
    "my_set = set(['P', 'Q', 'Q','R', 'S', \"T\" ])\n",
    "print (\"my_set   -->\", my_set)\n",
    "\n",
    "my_set.discard(\"P\")\n",
    "print (\"After discard (P) -->\", my_set )\n",
    "\n",
    "my_set.discard(\"Q\")\n",
    "print (\"After discard (Q) -->\", my_set )\n",
    "\n",
    "my_set.discard(\"Q\")                         # No Error\n",
    "print (\"After discard (Q) -->\", my_set)"
   ]
  },
  {
   "cell_type": "markdown",
   "metadata": {},
   "source": [
    "#### pop()"
   ]
  },
  {
   "cell_type": "code",
   "execution_count": null,
   "metadata": {},
   "outputs": [],
   "source": [
    "my_set = set(['A', 'B' ])\n",
    "print (\"my_set         -->\", my_set)\n",
    "\n",
    "my_set.pop()\n",
    "print (\"After pop -->\", my_set)\n",
    "\n",
    "my_set.pop()\n",
    "print (\"After pop -->\", my_set)\n",
    "\n",
    "my_set.pop()                       # Error; Set is empty; Under flow\n",
    "print (\"After pop -->\", my_set)"
   ]
  },
  {
   "cell_type": "markdown",
   "metadata": {},
   "source": [
    "#### clear()"
   ]
  },
  {
   "cell_type": "code",
   "execution_count": null,
   "metadata": {},
   "outputs": [],
   "source": [
    "my_set = set(['P', 'Q', 'R', 'S','T' ])\n",
    "print (\"my_set            -->\", my_set)\n",
    "\n",
    "my_set.clear()            # Deleting all elements\n",
    "print (\"Set after clear -->\", my_set)"
   ]
  },
  {
   "cell_type": "markdown",
   "metadata": {},
   "source": [
    "### Deleting Set"
   ]
  },
  {
   "cell_type": "code",
   "execution_count": null,
   "metadata": {},
   "outputs": [],
   "source": [
    "my_set = set([1,2,3,4,5 ])\n",
    "print (\"my_set     -->\", my_set)\n",
    "\n",
    "del my_set\n",
    "print (\"Set after delete -->\", my_set)   # Error\n",
    "                                        # Set is deleted and still want to print\n",
    "                                        # Exception should me handle\n"
   ]
  },
  {
   "cell_type": "code",
   "execution_count": null,
   "metadata": {},
   "outputs": [],
   "source": []
  },
  {
   "cell_type": "code",
   "execution_count": null,
   "metadata": {},
   "outputs": [],
   "source": []
  }
 ],
 "metadata": {
  "kernelspec": {
   "display_name": "Python 3",
   "language": "python",
   "name": "python3"
  },
  "language_info": {
   "codemirror_mode": {
    "name": "ipython",
    "version": 3
   },
   "file_extension": ".py",
   "mimetype": "text/x-python",
   "name": "python",
   "nbconvert_exporter": "python",
   "pygments_lexer": "ipython3",
   "version": "3.8.5"
  }
 },
 "nbformat": 4,
 "nbformat_minor": 4
}
