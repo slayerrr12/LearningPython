{
 "cells": [
  {
   "cell_type": "markdown",
   "metadata": {
    "colab_type": "text",
    "id": "zpNxYR7fb-et"
   },
   "source": [
    "##  Data Manupulation using Pandas\n",
    "\n",
    "\n",
    "#### Pandas is an open-source Python Library providing high-performance data manipulation and analysis tool using its powerful data structures.\n",
    "\n",
    "##### Note: \n",
    "1. First Clean the Evironment (Go to \"Kernel\" Menu --> \"Restart & Clean Output\"\n",
    "2. To execute the code --> Click on a cell and press cntrl + enter key\n"
   ]
  },
  {
   "cell_type": "markdown",
   "metadata": {
    "colab_type": "text",
    "id": "fx6ipiUnb-e0"
   },
   "source": [
    "## Key Features of Pandas\n",
    "- Fast and efficient DataFrame object with default and customized indexing.\n",
    "- Tools for loading data into in-memory data objects from different file formats.\n",
    "- Data alignment and integrated handling of missing data.\n",
    "- Reshaping and pivoting of date sets.\n",
    "- Label-based slicing, indexing and subsetting of large data sets.\n",
    "- Columns from a data structure can be deleted or inserted.\n",
    "- Group by data for aggregation and transformations.\n",
    "- High performance merging and joining of data.\n",
    "- Time Series functionality.\n"
   ]
  },
  {
   "cell_type": "markdown",
   "metadata": {
    "colab_type": "text",
    "id": "lVCDnxHZb-e8"
   },
   "source": [
    "## Working with Pandas"
   ]
  },
  {
   "cell_type": "markdown",
   "metadata": {
    "colab_type": "text",
    "id": "vtrHXBgpb-fA"
   },
   "source": [
    "## 1. Import pandas library"
   ]
  },
  {
   "cell_type": "code",
   "execution_count": 1,
   "metadata": {
    "colab": {},
    "colab_type": "code",
    "id": "2wdKlSrdb-fE"
   },
   "outputs": [],
   "source": [
    "#This command imports all the methods related to pandas.\n",
    "\n",
    "import pandas as pd\n"
   ]
  },
  {
   "cell_type": "markdown",
   "metadata": {
    "colab_type": "text",
    "id": "wbjoOqqzb-fh"
   },
   "source": [
    "## 2 Let's start with Series\n",
    "\n",
    "#### Series is a one-dimensional labeled array"
   ]
  },
  {
   "cell_type": "markdown",
   "metadata": {
    "colab_type": "text",
    "id": "TdJx7aLrb-fj"
   },
   "source": [
    "### 2.1 A Series is created with data from 1 to 9"
   ]
  },
  {
   "cell_type": "code",
   "execution_count": 2,
   "metadata": {
    "colab": {},
    "colab_type": "code",
    "id": "s_2EncV6b-fm"
   },
   "outputs": [
    {
     "name": "stdout",
     "output_type": "stream",
     "text": [
      "0    1\n",
      "1    3\n",
      "2    5\n",
      "3    7\n",
      "4    9\n",
      "5    2\n",
      "6    4\n",
      "7    6\n",
      "8    8\n",
      "dtype: int64\n"
     ]
    }
   ],
   "source": [
    "#import pandas as pd\n",
    "\n",
    "a = [1, 3, 5, 7, 9, 2, 4, 6, 8]\n",
    "a1 = pd.Series(a)\n",
    "\n",
    "print(a1)\n"
   ]
  },
  {
   "cell_type": "markdown",
   "metadata": {
    "colab_type": "text",
    "id": "sgDiH8zmb-f1"
   },
   "source": [
    "### 2.2 A Series has been created with Data along with it's Index"
   ]
  },
  {
   "cell_type": "code",
   "execution_count": 3,
   "metadata": {
    "colab": {},
    "colab_type": "code",
    "id": "NnwUub-fb-f5",
    "scrolled": false
   },
   "outputs": [
    {
     "name": "stdout",
     "output_type": "stream",
     "text": [
      "a       1\n",
      "arun    3\n",
      "b       5\n",
      "c       7\n",
      "d       9\n",
      "e       2\n",
      "f       4\n",
      "g       6\n",
      "h       8\n",
      "dtype: int64\n",
      "6\n",
      "6\n"
     ]
    }
   ],
   "source": [
    "import pandas as pd\n",
    "\n",
    "a1 = [1,3,5,7,9,2,4,6,8]\n",
    "a2 = ['a','arun','b','c','d','e','f','g','h']\n",
    "a3 = pd.Series(a1,a2)\n",
    "\n",
    "# print(a3)\n",
    "#a3[0]\n",
    "\n",
    "print(a3)\n",
    "print(a3['g'])\n",
    "print(a3[-2])\n",
    "\n",
    "\n"
   ]
  },
  {
   "cell_type": "markdown",
   "metadata": {
    "colab_type": "text",
    "id": "WiqYlmT2b-gH"
   },
   "source": [
    "### 2.3 Creating a series with the help of a dictionary"
   ]
  },
  {
   "cell_type": "code",
   "execution_count": 4,
   "metadata": {
    "colab": {},
    "colab_type": "code",
    "id": "9z-8J028b-gM",
    "scrolled": true
   },
   "outputs": [
    {
     "name": "stdout",
     "output_type": "stream",
     "text": [
      "Oranges     3\n",
      "Apples      4\n",
      "Mangoes     2\n",
      "Banana     12\n",
      "dtype: int64\n",
      "<class 'dict'>\n",
      "4\n"
     ]
    }
   ],
   "source": [
    "import pandas as pd\n",
    "\n",
    "dict1 = {'Oranges':3, 'Apples':4, 'Mangoes':2, 'Banana':12}\n",
    "dict2 = pd.Series(dict1)\n",
    "\n",
    "print (dict2)\n",
    "print (type(dict1))\n",
    "print(dict2['Apples'])"
   ]
  },
  {
   "cell_type": "markdown",
   "metadata": {
    "colab_type": "text",
    "id": "SsuhG8fNb-gn"
   },
   "source": [
    "### 2.4 Creating a series with the help of Nested List"
   ]
  },
  {
   "cell_type": "code",
   "execution_count": 5,
   "metadata": {
    "colab": {},
    "colab_type": "code",
    "id": "f86z0yeFb-go"
   },
   "outputs": [
    {
     "name": "stdout",
     "output_type": "stream",
     "text": [
      "0    [1, 3, 5]\n",
      "1    [2, 4, 6]\n",
      "dtype: object\n"
     ]
    },
    {
     "data": {
      "text/plain": [
       "pandas.core.series.Series"
      ]
     },
     "execution_count": 5,
     "metadata": {},
     "output_type": "execute_result"
    }
   ],
   "source": [
    "import pandas as pd\n",
    "\n",
    "Array1 = [[1,3,5],[2,4,6]]\n",
    "Array2 = pd.Series(Array1)\n",
    "\n",
    "print (Array2)\n",
    "type(Array2)\n"
   ]
  },
  {
   "cell_type": "markdown",
   "metadata": {
    "colab_type": "text",
    "id": "yXSN_46gb-g6"
   },
   "source": [
    "## 2 DataFrames\n",
    "#### DataFrames are 2 dimensional data structure which are defined in PANDAS which has rows and columns."
   ]
  },
  {
   "cell_type": "markdown",
   "metadata": {
    "colab_type": "text",
    "id": "ViByUyggb-hA"
   },
   "source": [
    "### 2.1 Creating a data frame with dictionary"
   ]
  },
  {
   "cell_type": "code",
   "execution_count": 6,
   "metadata": {
    "colab": {},
    "colab_type": "code",
    "id": "Z0ccSRnib-hF"
   },
   "outputs": [
    {
     "name": "stdout",
     "output_type": "stream",
     "text": [
      "   Age    Name\n",
      "0   23   Rahul\n",
      "1   33    John\n",
      "2   12  Robert\n"
     ]
    }
   ],
   "source": [
    "import pandas as pd\n",
    "\n",
    "Data = {'Age':[23,33,12],'Name':['Rahul','John','Robert']}\n",
    "\n",
    "Data1 = pd.DataFrame(Data)\n",
    "\n",
    "print(Data1)\n"
   ]
  },
  {
   "cell_type": "markdown",
   "metadata": {
    "colab_type": "text",
    "id": "5XzkxrIBb-hm"
   },
   "source": [
    "### 2.2 Creating a data frame with lists"
   ]
  },
  {
   "cell_type": "code",
   "execution_count": 7,
   "metadata": {
    "colab": {},
    "colab_type": "code",
    "id": "wRnmMyD6b-hp"
   },
   "outputs": [
    {
     "name": "stdout",
     "output_type": "stream",
     "text": [
      "[[4, 1900], [3, 1600], [2, 1100], [1, 850]]\n",
      "\n",
      "   0     1\n",
      "0  4  1900\n",
      "1  3  1600\n",
      "2  2  1100\n",
      "3  1   850\n"
     ]
    }
   ],
   "source": [
    "# import pandas as pd\n",
    "\n",
    "Data2 = [[4,1900],[3,1600],[2,1100],[1,850]]\n",
    "Data3 = pd.DataFrame(Data2)#, columns = ['No_of_Bedrooms','Square_Feet'])\n",
    "print(Data2)\n",
    "print(\"\")\n",
    "print (Data3)\n"
   ]
  },
  {
   "cell_type": "markdown",
   "metadata": {
    "colab_type": "text",
    "id": "UvMYlVewb-iA"
   },
   "source": [
    "### 2.3 Assigning indexes within a data frame"
   ]
  },
  {
   "cell_type": "code",
   "execution_count": 8,
   "metadata": {
    "colab": {},
    "colab_type": "code",
    "id": "MWD0VBZ0b-iD"
   },
   "outputs": [
    {
     "name": "stdout",
     "output_type": "stream",
     "text": [
      "            Name  Marks\n",
      "Rank 2     Ankit     78\n",
      "Rank 3  Rishitha     67\n",
      "Rank 1   Karthik     98\n",
      "Rank 4    Vishnu     56\n"
     ]
    }
   ],
   "source": [
    "import pandas as pd\n",
    "\n",
    "Data4 = {'Name':['Ankit','Rishitha','Karthik','Vishnu'],'Marks':[78,67,98,56]}\n",
    "Data5 = pd.DataFrame(Data4,index = ['Rank 2','Rank 3','Rank 1','Rank 4'])\n",
    "\n",
    "print (Data5)\n"
   ]
  },
  {
   "cell_type": "markdown",
   "metadata": {
    "colab_type": "text",
    "id": "7d1Fx-nGb-ib"
   },
   "source": [
    "### 2.4 Creating dataframes from list of dictionaries"
   ]
  },
  {
   "cell_type": "code",
   "execution_count": 9,
   "metadata": {
    "colab": {},
    "colab_type": "code",
    "id": "dV1doSd8b-id"
   },
   "outputs": [
    {
     "name": "stdout",
     "output_type": "stream",
     "text": [
      "    B     C\n",
      "0  66  67.0\n",
      "1  98   NaN\n",
      "    A   B     C     D\n",
      "0  65  66  67.0   NaN\n",
      "1  97  98   NaN  99.0\n",
      "<class 'list'>\n",
      "<class 'pandas.core.frame.DataFrame'>\n",
      "{'A': 97, 'B': 98, 'D': 99}\n"
     ]
    }
   ],
   "source": [
    "import pandas as pd\n",
    "\n",
    "Data6 = [{'A':65,'B':66,'C':67},{'A':97,'B':98,'D':99}]\n",
    "Data7 = pd.DataFrame(Data6)\n",
    "a = Data7.iloc[:,1:3]\n",
    "print(a)\n",
    "print (Data7)\n",
    "print(type(Data6))\n",
    "print(type(Data7))\n",
    "print(Data6[1])"
   ]
  },
  {
   "cell_type": "markdown",
   "metadata": {
    "colab_type": "text",
    "id": "6nbxwcLEb-jE"
   },
   "source": [
    "### 2.5 Creating a dataframe with the help of timestamp and categorical."
   ]
  },
  {
   "cell_type": "code",
   "execution_count": 10,
   "metadata": {
    "colab": {},
    "colab_type": "code",
    "id": "08zJTYo4b-jK"
   },
   "outputs": [
    {
     "name": "stdout",
     "output_type": "stream",
     "text": [
      "   A          B  C      D                E\n",
      "0  1 2019-03-05  3   Test  Hello, Welcome!\n",
      "1  2 2019-03-05  3  Train  Hello, Welcome!\n",
      "2  3 2019-03-05  3    Car  Hello, Welcome!\n",
      "3    2019-03-05  3   Bike  Hello, Welcome!\n",
      "4  5 2019-03-05  3    Bus  Hello, Welcome!\n"
     ]
    }
   ],
   "source": [
    "import numpy as np\n",
    "import pandas as pd\n",
    "\n",
    "Data8 = pd.DataFrame({'A':[1,2,3,'',5], 'B':pd.Timestamp('20190305'),'C':np.array([3]*5)\n",
    "                     , 'D' : pd.Categorical([\"Test\",\"Train\",\"Car\",\"Bike\", \"Bus\"])\n",
    "                     , 'E':'Hello, Welcome!'})\n",
    "print(Data8)\n",
    "\n",
    "\n",
    "## 3 Working with data file (csv)"
   ]
  },
  {
   "cell_type": "markdown",
   "metadata": {
    "colab_type": "text",
    "id": "xpTCHFhdb-jh"
   },
   "source": [
    "### 3.1 Read csv file"
   ]
  },
  {
   "cell_type": "code",
   "execution_count": 11,
   "metadata": {
    "colab": {},
    "colab_type": "code",
    "id": "XIkFkAlyb-jq"
   },
   "outputs": [
    {
     "ename": "FileNotFoundError",
     "evalue": "[Errno 2] No such file or directory: 'League_of_Legends.csv'",
     "output_type": "error",
     "traceback": [
      "\u001b[1;31m---------------------------------------------------------------------------\u001b[0m",
      "\u001b[1;31mFileNotFoundError\u001b[0m                         Traceback (most recent call last)",
      "\u001b[1;32md:\\PythonSage\\BasicPandas\\Data_Manupulation_using_Pandas.ipynb Cell 27\u001b[0m line \u001b[0;36m3\n\u001b[0;32m      <a href='vscode-notebook-cell:/d%3A/PythonSage/BasicPandas/Data_Manupulation_using_Pandas.ipynb#X35sZmlsZQ%3D%3D?line=0'>1</a>\u001b[0m \u001b[39mimport\u001b[39;00m \u001b[39mpandas\u001b[39;00m \u001b[39mas\u001b[39;00m \u001b[39mpd\u001b[39;00m\n\u001b[1;32m----> <a href='vscode-notebook-cell:/d%3A/PythonSage/BasicPandas/Data_Manupulation_using_Pandas.ipynb#X35sZmlsZQ%3D%3D?line=2'>3</a>\u001b[0m LOL \u001b[39m=\u001b[39m pd\u001b[39m.\u001b[39;49mread_csv(\u001b[39m'\u001b[39;49m\u001b[39mLeague_of_Legends.csv\u001b[39;49m\u001b[39m'\u001b[39;49m)\n\u001b[0;32m      <a href='vscode-notebook-cell:/d%3A/PythonSage/BasicPandas/Data_Manupulation_using_Pandas.ipynb#X35sZmlsZQ%3D%3D?line=3'>4</a>\u001b[0m LOL\n",
      "File \u001b[1;32mc:\\Users\\hp\\AppData\\Local\\Programs\\Python\\Python310\\lib\\site-packages\\pandas\\io\\parsers\\readers.py:912\u001b[0m, in \u001b[0;36mread_csv\u001b[1;34m(filepath_or_buffer, sep, delimiter, header, names, index_col, usecols, dtype, engine, converters, true_values, false_values, skipinitialspace, skiprows, skipfooter, nrows, na_values, keep_default_na, na_filter, verbose, skip_blank_lines, parse_dates, infer_datetime_format, keep_date_col, date_parser, date_format, dayfirst, cache_dates, iterator, chunksize, compression, thousands, decimal, lineterminator, quotechar, quoting, doublequote, escapechar, comment, encoding, encoding_errors, dialect, on_bad_lines, delim_whitespace, low_memory, memory_map, float_precision, storage_options, dtype_backend)\u001b[0m\n\u001b[0;32m    899\u001b[0m kwds_defaults \u001b[39m=\u001b[39m _refine_defaults_read(\n\u001b[0;32m    900\u001b[0m     dialect,\n\u001b[0;32m    901\u001b[0m     delimiter,\n\u001b[1;32m   (...)\u001b[0m\n\u001b[0;32m    908\u001b[0m     dtype_backend\u001b[39m=\u001b[39mdtype_backend,\n\u001b[0;32m    909\u001b[0m )\n\u001b[0;32m    910\u001b[0m kwds\u001b[39m.\u001b[39mupdate(kwds_defaults)\n\u001b[1;32m--> 912\u001b[0m \u001b[39mreturn\u001b[39;00m _read(filepath_or_buffer, kwds)\n",
      "File \u001b[1;32mc:\\Users\\hp\\AppData\\Local\\Programs\\Python\\Python310\\lib\\site-packages\\pandas\\io\\parsers\\readers.py:577\u001b[0m, in \u001b[0;36m_read\u001b[1;34m(filepath_or_buffer, kwds)\u001b[0m\n\u001b[0;32m    574\u001b[0m _validate_names(kwds\u001b[39m.\u001b[39mget(\u001b[39m\"\u001b[39m\u001b[39mnames\u001b[39m\u001b[39m\"\u001b[39m, \u001b[39mNone\u001b[39;00m))\n\u001b[0;32m    576\u001b[0m \u001b[39m# Create the parser.\u001b[39;00m\n\u001b[1;32m--> 577\u001b[0m parser \u001b[39m=\u001b[39m TextFileReader(filepath_or_buffer, \u001b[39m*\u001b[39m\u001b[39m*\u001b[39mkwds)\n\u001b[0;32m    579\u001b[0m \u001b[39mif\u001b[39;00m chunksize \u001b[39mor\u001b[39;00m iterator:\n\u001b[0;32m    580\u001b[0m     \u001b[39mreturn\u001b[39;00m parser\n",
      "File \u001b[1;32mc:\\Users\\hp\\AppData\\Local\\Programs\\Python\\Python310\\lib\\site-packages\\pandas\\io\\parsers\\readers.py:1407\u001b[0m, in \u001b[0;36mTextFileReader.__init__\u001b[1;34m(self, f, engine, **kwds)\u001b[0m\n\u001b[0;32m   1404\u001b[0m     \u001b[39mself\u001b[39m\u001b[39m.\u001b[39moptions[\u001b[39m\"\u001b[39m\u001b[39mhas_index_names\u001b[39m\u001b[39m\"\u001b[39m] \u001b[39m=\u001b[39m kwds[\u001b[39m\"\u001b[39m\u001b[39mhas_index_names\u001b[39m\u001b[39m\"\u001b[39m]\n\u001b[0;32m   1406\u001b[0m \u001b[39mself\u001b[39m\u001b[39m.\u001b[39mhandles: IOHandles \u001b[39m|\u001b[39m \u001b[39mNone\u001b[39;00m \u001b[39m=\u001b[39m \u001b[39mNone\u001b[39;00m\n\u001b[1;32m-> 1407\u001b[0m \u001b[39mself\u001b[39m\u001b[39m.\u001b[39m_engine \u001b[39m=\u001b[39m \u001b[39mself\u001b[39;49m\u001b[39m.\u001b[39;49m_make_engine(f, \u001b[39mself\u001b[39;49m\u001b[39m.\u001b[39;49mengine)\n",
      "File \u001b[1;32mc:\\Users\\hp\\AppData\\Local\\Programs\\Python\\Python310\\lib\\site-packages\\pandas\\io\\parsers\\readers.py:1661\u001b[0m, in \u001b[0;36mTextFileReader._make_engine\u001b[1;34m(self, f, engine)\u001b[0m\n\u001b[0;32m   1659\u001b[0m     \u001b[39mif\u001b[39;00m \u001b[39m\"\u001b[39m\u001b[39mb\u001b[39m\u001b[39m\"\u001b[39m \u001b[39mnot\u001b[39;00m \u001b[39min\u001b[39;00m mode:\n\u001b[0;32m   1660\u001b[0m         mode \u001b[39m+\u001b[39m\u001b[39m=\u001b[39m \u001b[39m\"\u001b[39m\u001b[39mb\u001b[39m\u001b[39m\"\u001b[39m\n\u001b[1;32m-> 1661\u001b[0m \u001b[39mself\u001b[39m\u001b[39m.\u001b[39mhandles \u001b[39m=\u001b[39m get_handle(\n\u001b[0;32m   1662\u001b[0m     f,\n\u001b[0;32m   1663\u001b[0m     mode,\n\u001b[0;32m   1664\u001b[0m     encoding\u001b[39m=\u001b[39;49m\u001b[39mself\u001b[39;49m\u001b[39m.\u001b[39;49moptions\u001b[39m.\u001b[39;49mget(\u001b[39m\"\u001b[39;49m\u001b[39mencoding\u001b[39;49m\u001b[39m\"\u001b[39;49m, \u001b[39mNone\u001b[39;49;00m),\n\u001b[0;32m   1665\u001b[0m     compression\u001b[39m=\u001b[39;49m\u001b[39mself\u001b[39;49m\u001b[39m.\u001b[39;49moptions\u001b[39m.\u001b[39;49mget(\u001b[39m\"\u001b[39;49m\u001b[39mcompression\u001b[39;49m\u001b[39m\"\u001b[39;49m, \u001b[39mNone\u001b[39;49;00m),\n\u001b[0;32m   1666\u001b[0m     memory_map\u001b[39m=\u001b[39;49m\u001b[39mself\u001b[39;49m\u001b[39m.\u001b[39;49moptions\u001b[39m.\u001b[39;49mget(\u001b[39m\"\u001b[39;49m\u001b[39mmemory_map\u001b[39;49m\u001b[39m\"\u001b[39;49m, \u001b[39mFalse\u001b[39;49;00m),\n\u001b[0;32m   1667\u001b[0m     is_text\u001b[39m=\u001b[39;49mis_text,\n\u001b[0;32m   1668\u001b[0m     errors\u001b[39m=\u001b[39;49m\u001b[39mself\u001b[39;49m\u001b[39m.\u001b[39;49moptions\u001b[39m.\u001b[39;49mget(\u001b[39m\"\u001b[39;49m\u001b[39mencoding_errors\u001b[39;49m\u001b[39m\"\u001b[39;49m, \u001b[39m\"\u001b[39;49m\u001b[39mstrict\u001b[39;49m\u001b[39m\"\u001b[39;49m),\n\u001b[0;32m   1669\u001b[0m     storage_options\u001b[39m=\u001b[39;49m\u001b[39mself\u001b[39;49m\u001b[39m.\u001b[39;49moptions\u001b[39m.\u001b[39;49mget(\u001b[39m\"\u001b[39;49m\u001b[39mstorage_options\u001b[39;49m\u001b[39m\"\u001b[39;49m, \u001b[39mNone\u001b[39;49;00m),\n\u001b[0;32m   1670\u001b[0m )\n\u001b[0;32m   1671\u001b[0m \u001b[39massert\u001b[39;00m \u001b[39mself\u001b[39m\u001b[39m.\u001b[39mhandles \u001b[39mis\u001b[39;00m \u001b[39mnot\u001b[39;00m \u001b[39mNone\u001b[39;00m\n\u001b[0;32m   1672\u001b[0m f \u001b[39m=\u001b[39m \u001b[39mself\u001b[39m\u001b[39m.\u001b[39mhandles\u001b[39m.\u001b[39mhandle\n",
      "File \u001b[1;32mc:\\Users\\hp\\AppData\\Local\\Programs\\Python\\Python310\\lib\\site-packages\\pandas\\io\\common.py:859\u001b[0m, in \u001b[0;36mget_handle\u001b[1;34m(path_or_buf, mode, encoding, compression, memory_map, is_text, errors, storage_options)\u001b[0m\n\u001b[0;32m    854\u001b[0m \u001b[39melif\u001b[39;00m \u001b[39misinstance\u001b[39m(handle, \u001b[39mstr\u001b[39m):\n\u001b[0;32m    855\u001b[0m     \u001b[39m# Check whether the filename is to be opened in binary mode.\u001b[39;00m\n\u001b[0;32m    856\u001b[0m     \u001b[39m# Binary mode does not support 'encoding' and 'newline'.\u001b[39;00m\n\u001b[0;32m    857\u001b[0m     \u001b[39mif\u001b[39;00m ioargs\u001b[39m.\u001b[39mencoding \u001b[39mand\u001b[39;00m \u001b[39m\"\u001b[39m\u001b[39mb\u001b[39m\u001b[39m\"\u001b[39m \u001b[39mnot\u001b[39;00m \u001b[39min\u001b[39;00m ioargs\u001b[39m.\u001b[39mmode:\n\u001b[0;32m    858\u001b[0m         \u001b[39m# Encoding\u001b[39;00m\n\u001b[1;32m--> 859\u001b[0m         handle \u001b[39m=\u001b[39m \u001b[39mopen\u001b[39;49m(\n\u001b[0;32m    860\u001b[0m             handle,\n\u001b[0;32m    861\u001b[0m             ioargs\u001b[39m.\u001b[39;49mmode,\n\u001b[0;32m    862\u001b[0m             encoding\u001b[39m=\u001b[39;49mioargs\u001b[39m.\u001b[39;49mencoding,\n\u001b[0;32m    863\u001b[0m             errors\u001b[39m=\u001b[39;49merrors,\n\u001b[0;32m    864\u001b[0m             newline\u001b[39m=\u001b[39;49m\u001b[39m\"\u001b[39;49m\u001b[39m\"\u001b[39;49m,\n\u001b[0;32m    865\u001b[0m         )\n\u001b[0;32m    866\u001b[0m     \u001b[39melse\u001b[39;00m:\n\u001b[0;32m    867\u001b[0m         \u001b[39m# Binary mode\u001b[39;00m\n\u001b[0;32m    868\u001b[0m         handle \u001b[39m=\u001b[39m \u001b[39mopen\u001b[39m(handle, ioargs\u001b[39m.\u001b[39mmode)\n",
      "\u001b[1;31mFileNotFoundError\u001b[0m: [Errno 2] No such file or directory: 'League_of_Legends.csv'"
     ]
    }
   ],
   "source": [
    "import pandas as pd\n",
    "\n",
    "LOL = pd.read_csv('League_of_Legends.csv')\n",
    "LOL\n"
   ]
  },
  {
   "cell_type": "markdown",
   "metadata": {
    "colab_type": "text",
    "id": "AelEhesxb-kJ"
   },
   "source": [
    "### 3.2 Get the dimention of the dataset"
   ]
  },
  {
   "cell_type": "code",
   "execution_count": null,
   "metadata": {
    "colab": {},
    "colab_type": "code",
    "id": "nPRe8YGFb-kR"
   },
   "outputs": [],
   "source": [
    "\n",
    "LOL.shape\n"
   ]
  },
  {
   "cell_type": "markdown",
   "metadata": {
    "colab_type": "text",
    "id": "B_y8Dln5b-k4"
   },
   "source": [
    "### 3.3 Top 5 rows of the Data Set"
   ]
  },
  {
   "cell_type": "code",
   "execution_count": null,
   "metadata": {
    "colab": {},
    "colab_type": "code",
    "id": "XiGtfpucb-k8"
   },
   "outputs": [],
   "source": [
    "\n",
    "LOL.head(10)\n"
   ]
  },
  {
   "cell_type": "markdown",
   "metadata": {
    "colab_type": "text",
    "id": "dudwheCVb-lQ"
   },
   "source": [
    "### 3.4 Bottom 5 rows of the Data Set"
   ]
  },
  {
   "cell_type": "code",
   "execution_count": null,
   "metadata": {
    "colab": {},
    "colab_type": "code",
    "id": "ZwWZ_1_ab-lf"
   },
   "outputs": [],
   "source": [
    "\n",
    "LOL.tail()\n"
   ]
  },
  {
   "cell_type": "markdown",
   "metadata": {
    "colab_type": "text",
    "id": "F6dQwDMab-l6"
   },
   "source": [
    "### 3.5 Get all column names of the Data Set"
   ]
  },
  {
   "cell_type": "code",
   "execution_count": null,
   "metadata": {
    "colab": {},
    "colab_type": "code",
    "id": "w5NP8dKMb-l-"
   },
   "outputs": [],
   "source": [
    "\n",
    "LOL.columns\n"
   ]
  },
  {
   "cell_type": "markdown",
   "metadata": {
    "colab_type": "text",
    "id": "QsHgX0aWb-mL"
   },
   "source": [
    "### 3.6 Get the statistical summary of the data"
   ]
  },
  {
   "cell_type": "code",
   "execution_count": null,
   "metadata": {
    "colab": {},
    "colab_type": "code",
    "id": "GdUFv8nRb-mP"
   },
   "outputs": [],
   "source": [
    "\n",
    "LOL.describe()\n"
   ]
  },
  {
   "cell_type": "markdown",
   "metadata": {
    "colab_type": "text",
    "id": "_qnXRdcTb-mY"
   },
   "source": [
    "### 3.7 Get the information related to the Data Frame"
   ]
  },
  {
   "cell_type": "code",
   "execution_count": null,
   "metadata": {
    "colab": {},
    "colab_type": "code",
    "id": "Qw633tL2b-me"
   },
   "outputs": [],
   "source": [
    "\n",
    "LOL.info()\n"
   ]
  },
  {
   "cell_type": "markdown",
   "metadata": {
    "colab_type": "text",
    "id": "ad4f_0KQb-mn"
   },
   "source": [
    "### 3.8 Transposing the Dataframe"
   ]
  },
  {
   "cell_type": "code",
   "execution_count": null,
   "metadata": {
    "colab": {},
    "colab_type": "code",
    "id": "b4pp5mzfb-mq"
   },
   "outputs": [],
   "source": [
    "\n",
    "LOL.T.head()\n"
   ]
  },
  {
   "cell_type": "markdown",
   "metadata": {
    "colab_type": "text",
    "id": "mb6zozaMb-m3"
   },
   "source": [
    "### 3.9 Get columns using column names"
   ]
  },
  {
   "cell_type": "code",
   "execution_count": null,
   "metadata": {
    "colab": {},
    "colab_type": "code",
    "id": "mGNjvrJcb-m4"
   },
   "outputs": [],
   "source": [
    "\n",
    "LOL.loc[:,['gameId','redKills','blueKills']].tail(10)\n"
   ]
  },
  {
   "cell_type": "markdown",
   "metadata": {
    "colab_type": "text",
    "id": "ZbMsfjoab-nF"
   },
   "source": [
    "### 3.10 Get columns using position"
   ]
  },
  {
   "cell_type": "code",
   "execution_count": null,
   "metadata": {
    "colab": {},
    "colab_type": "code",
    "id": "deXLn1E8b-nH"
   },
   "outputs": [],
   "source": [
    "\n",
    "LOL.iloc[:,-1]\n"
   ]
  },
  {
   "cell_type": "markdown",
   "metadata": {
    "colab_type": "text",
    "id": "Rsdy5yeZb-nU"
   },
   "source": [
    "### 3.11 Get the mean of the all the columns present in the dataset"
   ]
  },
  {
   "cell_type": "code",
   "execution_count": null,
   "metadata": {
    "colab": {},
    "colab_type": "code",
    "id": "rmjDuaeJb-nX"
   },
   "outputs": [],
   "source": [
    "\n",
    "LOL.mean()\n"
   ]
  },
  {
   "cell_type": "markdown",
   "metadata": {
    "colab_type": "text",
    "id": "MAIdcvXIb-nm"
   },
   "source": [
    "### 3.12 Get the correlation of the all the columns present in the dataset"
   ]
  },
  {
   "cell_type": "code",
   "execution_count": null,
   "metadata": {
    "colab": {},
    "colab_type": "code",
    "id": "ynlmyhFLb-nn"
   },
   "outputs": [],
   "source": [
    "\n",
    "LOL.corr()\n",
    " "
   ]
  },
  {
   "cell_type": "markdown",
   "metadata": {
    "colab_type": "text",
    "id": "NNFtQNm6b-nw"
   },
   "source": [
    "### 3.13 Get the maximum value of the data set present in each column"
   ]
  },
  {
   "cell_type": "code",
   "execution_count": null,
   "metadata": {
    "colab": {},
    "colab_type": "code",
    "id": "rfk11xEzb-nz"
   },
   "outputs": [],
   "source": [
    "\n",
    "LOL.max().head(10)\n"
   ]
  },
  {
   "cell_type": "markdown",
   "metadata": {
    "colab_type": "text",
    "id": "ulV7tlDeb-n8"
   },
   "source": [
    "### 3.14 Get the minimum value of the dataset of each column"
   ]
  },
  {
   "cell_type": "code",
   "execution_count": null,
   "metadata": {
    "colab": {},
    "colab_type": "code",
    "id": "TTsXBkMcb-n-"
   },
   "outputs": [],
   "source": [
    "\n",
    "LOL.min().tail(10)\n",
    "#print(type(LOL))\n"
   ]
  },
  {
   "cell_type": "markdown",
   "metadata": {
    "colab_type": "text",
    "id": "r2zQyp1Nb-oM"
   },
   "source": [
    "### 3.15 Get the median of the Dataset"
   ]
  },
  {
   "cell_type": "code",
   "execution_count": null,
   "metadata": {
    "colab": {},
    "colab_type": "code",
    "id": "O79HawUrb-oN"
   },
   "outputs": [],
   "source": [
    "\n",
    "LOL.median().head(13)\n"
   ]
  },
  {
   "cell_type": "markdown",
   "metadata": {
    "colab_type": "text",
    "id": "7sZY9pBab-oa"
   },
   "source": [
    "### 3.16 Get the standard deviation of the dataset"
   ]
  },
  {
   "cell_type": "code",
   "execution_count": null,
   "metadata": {
    "colab": {},
    "colab_type": "code",
    "id": "nIQGeC1bb-ob"
   },
   "outputs": [],
   "source": [
    "\n",
    "LOL.std().head(10)\n"
   ]
  },
  {
   "cell_type": "markdown",
   "metadata": {
    "colab_type": "text",
    "id": "jYzTyuVNb-oo"
   },
   "source": [
    "### 3.17 Append the dataset with the same dataset"
   ]
  },
  {
   "cell_type": "code",
   "execution_count": null,
   "metadata": {
    "colab": {},
    "colab_type": "code",
    "id": "ep4N6OYdb-op"
   },
   "outputs": [],
   "source": [
    "\n",
    "print(LOL.shape)\n",
    "\n",
    "LOL_temp = LOL.append(LOL)\n",
    "\n",
    "print(LOL_temp.shape)\n"
   ]
  },
  {
   "cell_type": "markdown",
   "metadata": {
    "colab_type": "text",
    "id": "grGDzx2fb-oz"
   },
   "source": [
    "### 3.18 Drop the duplicates present in the dataset."
   ]
  },
  {
   "cell_type": "code",
   "execution_count": null,
   "metadata": {
    "colab": {},
    "colab_type": "code",
    "id": "RcmXtav_b-o1"
   },
   "outputs": [],
   "source": [
    "\n",
    "print(LOL_temp.shape)\n",
    "\n",
    "LOL_temp = LOL_temp.drop_duplicates()\n",
    "\n",
    "print(LOL_temp.shape)\n"
   ]
  },
  {
   "cell_type": "markdown",
   "metadata": {
    "colab_type": "text",
    "id": "HQDCpaYqb-pA"
   },
   "source": [
    "### 3.19 IsNull: This returns true or false depending on the status of the cell"
   ]
  },
  {
   "cell_type": "code",
   "execution_count": null,
   "metadata": {
    "colab": {},
    "colab_type": "code",
    "id": "QXMzSv_hb-pC"
   },
   "outputs": [],
   "source": [
    "#import pandas as pd\n",
    "\n",
    "#LOL = pd.read_csv('League_of_Legends.csv')\n",
    "LOL.isnull()\n"
   ]
  },
  {
   "cell_type": "markdown",
   "metadata": {
    "colab_type": "text",
    "id": "W3Jt680Kb-pK"
   },
   "source": [
    "### 3.20 Aggregate of all the values which are null"
   ]
  },
  {
   "cell_type": "code",
   "execution_count": null,
   "metadata": {
    "colab": {},
    "colab_type": "code",
    "id": "3OcLAKT-b-pM"
   },
   "outputs": [],
   "source": [
    "\n",
    "LOL.isnull().sum()\n"
   ]
  },
  {
   "cell_type": "markdown",
   "metadata": {
    "colab_type": "text",
    "id": "DCOW6axcb-pV"
   },
   "source": [
    "### 3.21 Drop NA values (delete rows)"
   ]
  },
  {
   "cell_type": "code",
   "execution_count": null,
   "metadata": {
    "colab": {},
    "colab_type": "code",
    "id": "9BFWcLR5b-pX"
   },
   "outputs": [],
   "source": [
    "import pandas as pd\n",
    "import numpy as np\n",
    "\n",
    "Data9 = pd.DataFrame({\"Name\":[\"Iron-Man\",\"Wonder-Woman\",\"Avengers\", \"Abc\"],\n",
    "                     \"House\":[\"Marvel\",\"DC Comics\",\"Marvel\", np.NaN],\n",
    "                     \"Start\":[pd.NaT,pd.Timestamp(\"2017-05-15\"),pd.NaT,pd.NaT]})\n",
    "\n",
    "Data9\n"
   ]
  },
  {
   "cell_type": "code",
   "execution_count": null,
   "metadata": {
    "colab": {},
    "colab_type": "code",
    "id": "psoT8JM7b-pf"
   },
   "outputs": [],
   "source": [
    "\n",
    "Data9.dropna()\n"
   ]
  },
  {
   "cell_type": "markdown",
   "metadata": {
    "colab_type": "text",
    "id": "suiYlTZjb-pm"
   },
   "source": [
    "### 3.22 Drop the columns where there are null values"
   ]
  },
  {
   "cell_type": "code",
   "execution_count": null,
   "metadata": {
    "colab": {},
    "colab_type": "code",
    "id": "R0qJ-y_eb-po"
   },
   "outputs": [],
   "source": [
    "\n",
    "Data9.dropna(axis = 'columns')\n"
   ]
  },
  {
   "cell_type": "markdown",
   "metadata": {
    "colab_type": "text",
    "id": "4SYRWM9mb-p1"
   },
   "source": [
    "### 3.23 Drop the entire row and column if ALL THE VALUES are null"
   ]
  },
  {
   "cell_type": "code",
   "execution_count": null,
   "metadata": {
    "colab": {},
    "colab_type": "code",
    "id": "TZSe0HYgb-p8"
   },
   "outputs": [],
   "source": [
    "\n",
    "Data9.dropna(how = 'all')\n"
   ]
  },
  {
   "cell_type": "markdown",
   "metadata": {
    "colab_type": "text",
    "id": "G1h-pYqdb-qN"
   },
   "source": [
    "### 3.24 Drop the null values where they are present"
   ]
  },
  {
   "cell_type": "code",
   "execution_count": null,
   "metadata": {
    "colab": {},
    "colab_type": "code",
    "id": "SA4Kqt08b-qP"
   },
   "outputs": [],
   "source": [
    "\n",
    "Data9.dropna(how = 'any')\n"
   ]
  },
  {
   "cell_type": "markdown",
   "metadata": {
    "colab_type": "text",
    "id": "eGpwW6-ob-qd"
   },
   "source": [
    "### 3.25 fill the null values with '0'"
   ]
  },
  {
   "cell_type": "code",
   "execution_count": null,
   "metadata": {
    "colab": {},
    "colab_type": "code",
    "id": "JYHGrDQOb-qe"
   },
   "outputs": [],
   "source": [
    "import pandas as pd\n",
    "import numpy as np\n",
    "\n",
    "Data10 = pd.DataFrame([[3,np.nan,4,2],[5,2,np.nan,9],\n",
    "                       [np.nan,np.nan,7,np.nan],[4,np.nan,5,np.nan]]\n",
    "                      ,columns=list('PQRS'))\n",
    "Data10"
   ]
  },
  {
   "cell_type": "code",
   "execution_count": null,
   "metadata": {
    "colab": {},
    "colab_type": "code",
    "id": "07pzUL4Kb-qt"
   },
   "outputs": [],
   "source": [
    "\n",
    "Data10.fillna(0)\n"
   ]
  },
  {
   "cell_type": "markdown",
   "metadata": {
    "colab_type": "text",
    "id": "rDko777sb-q1"
   },
   "source": [
    "### 3.26 Replace Values"
   ]
  },
  {
   "cell_type": "code",
   "execution_count": null,
   "metadata": {
    "colab": {},
    "colab_type": "code",
    "id": "Hf_waOFDb-q4"
   },
   "outputs": [],
   "source": [
    "\n",
    "Replace_Values = {'P':10,'Q':11,'R':12,'S':13}\n",
    "\n",
    "Data10.fillna(Replace_Values)\n"
   ]
  },
  {
   "cell_type": "markdown",
   "metadata": {
    "colab_type": "text",
    "id": "IAERwTyob-rH"
   },
   "source": [
    "### 3.27 Fill null values only once which are specified by the user"
   ]
  },
  {
   "cell_type": "code",
   "execution_count": null,
   "metadata": {
    "colab": {},
    "colab_type": "code",
    "id": "5L70vSXqb-rJ"
   },
   "outputs": [],
   "source": [
    "\n",
    "Data11=Data10.fillna(Replace_Values, limit = 1)\n",
    "Data11"
   ]
  },
  {
   "cell_type": "code",
   "execution_count": null,
   "metadata": {
    "colab": {},
    "colab_type": "code",
    "id": "C0SWGhIyb-rS"
   },
   "outputs": [],
   "source": [
    "\n",
    "\n"
   ]
  },
  {
   "cell_type": "markdown",
   "metadata": {
    "colab_type": "text",
    "id": "9l1IQGwZb-rh"
   },
   "source": [
    "### 3.28 Calculated the mean of column (ignore NA)"
   ]
  },
  {
   "cell_type": "code",
   "execution_count": null,
   "metadata": {
    "colab": {},
    "colab_type": "code",
    "id": "tVZ5eWRVb-rj"
   },
   "outputs": [],
   "source": [
    "\n",
    "Mean1 = Data10['R'].mean()\n",
    "Mean1\n"
   ]
  },
  {
   "cell_type": "markdown",
   "metadata": {
    "colab_type": "text",
    "id": "XCHrg0k9b-rv"
   },
   "source": [
    "### 3.29 Filled the missing values with the calculated mean"
   ]
  },
  {
   "cell_type": "code",
   "execution_count": null,
   "metadata": {
    "colab": {},
    "colab_type": "code",
    "id": "lsUjC4Y9b-r1"
   },
   "outputs": [],
   "source": [
    "\n",
    "Data10['R'].fillna(Mean1,inplace= False)\n"
   ]
  },
  {
   "cell_type": "code",
   "execution_count": null,
   "metadata": {
    "colab": {},
    "colab_type": "code",
    "id": "tALnlBonb-r-"
   },
   "outputs": [],
   "source": [
    "Data10\n"
   ]
  },
  {
   "cell_type": "markdown",
   "metadata": {
    "colab_type": "text",
    "id": "1p7t4O9gb-sG"
   },
   "source": [
    "### 3.30 Describe the dataset"
   ]
  },
  {
   "cell_type": "code",
   "execution_count": null,
   "metadata": {
    "colab": {},
    "colab_type": "code",
    "id": "_JFVkHdXb-sM"
   },
   "outputs": [],
   "source": [
    "\n",
    "Data10.describe()\n"
   ]
  },
  {
   "cell_type": "markdown",
   "metadata": {
    "colab_type": "text",
    "id": "PbmeQjbeb-sY"
   },
   "source": [
    "### 3.31 Describe the column of  dataset"
   ]
  },
  {
   "cell_type": "code",
   "execution_count": null,
   "metadata": {
    "colab": {},
    "colab_type": "code",
    "id": "8b1HKCzgb-sa"
   },
   "outputs": [],
   "source": [
    "\n",
    "Data10['P'].describe()\n"
   ]
  },
  {
   "cell_type": "markdown",
   "metadata": {
    "colab_type": "text",
    "id": "hm8stBiYb-sx"
   },
   "source": [
    "### 3.32 Fill the missing valuse"
   ]
  },
  {
   "cell_type": "code",
   "execution_count": null,
   "metadata": {
    "colab": {},
    "colab_type": "code",
    "id": "Srk7lg6jb-sy"
   },
   "outputs": [],
   "source": [
    "Mean1 = Data10['P'].mean()\n",
    "Mean2 = Data10['Q'].mean()\n",
    "Mean3 = Data10['R'].mean()\n",
    "Mean4 = Data10['S'].mean()\n"
   ]
  },
  {
   "cell_type": "code",
   "execution_count": null,
   "metadata": {
    "colab": {},
    "colab_type": "code",
    "id": "3CuspET-b-s6"
   },
   "outputs": [],
   "source": [
    "Data10['P'].fillna(Mean1,inplace= True)\n",
    "\n",
    "Data10['Q'].fillna(Mean2,inplace= True)\n",
    "Data10['R'].fillna(Mean3,inplace= True)\n",
    "Data10['S'].fillna(Mean4,inplace= True)\n"
   ]
  },
  {
   "cell_type": "code",
   "execution_count": null,
   "metadata": {
    "colab": {},
    "colab_type": "code",
    "id": "JHlKoPuwb-tT"
   },
   "outputs": [],
   "source": [
    "\n",
    "Data10\n"
   ]
  },
  {
   "cell_type": "code",
   "execution_count": null,
   "metadata": {},
   "outputs": [],
   "source": [
    "Data10['P'].mean()"
   ]
  }
 ],
 "metadata": {
  "colab": {
   "name": "Day02 - Session 2 - Data Manupulation using Pandas.ipynb",
   "provenance": []
  },
  "kernelspec": {
   "display_name": "Python 3 (ipykernel)",
   "language": "python",
   "name": "python3"
  },
  "language_info": {
   "codemirror_mode": {
    "name": "ipython",
    "version": 3
   },
   "file_extension": ".py",
   "mimetype": "text/x-python",
   "name": "python",
   "nbconvert_exporter": "python",
   "pygments_lexer": "ipython3",
   "version": "3.10.8"
  }
 },
 "nbformat": 4,
 "nbformat_minor": 1
}
